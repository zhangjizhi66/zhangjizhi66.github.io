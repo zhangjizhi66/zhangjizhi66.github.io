{
 "cells": [
  {
   "cell_type": "markdown",
   "id": "590bf109",
   "metadata": {},
   "source": [
    "### 实验数据处理\n",
    "\n",
    "- [氢硼截面测量](p11B/indexp11B.html)\n",
    "\n",
    "- [波形](Wave/indexWave.html)\n",
    "\n",
    "- [EURICA](EURICA/indexEURICA.html)\n",
    "\n",
    "- [多核子转移](MNT/indexMNT.html)\n",
    "\n",
    "### 本科毕业设计\n",
    "\n",
    "- [小型$\\alpha$磁谱仪](MAMS/indexMAMS.html)\n",
    "\n",
    "### 常用信息\n",
    "\n",
    "- [Ubuntu配置](UsefulInformation/UbuntuConfigure.html)\n",
    "- [常见放射性](UsefulInformation/Radioactivity.html)\n",
    "\n",
    "### 其他\n",
    "\n",
    "- [日语学习](Japanese/indexJapanese.html)"
   ]
  },
  {
   "cell_type": "code",
   "execution_count": 1,
   "id": "8213ab7d",
   "metadata": {},
   "outputs": [
    {
     "name": "stdout",
     "output_type": "stream",
     "text": [
      "2023年 11月 16日 星期四 16:27:56 CST\r\n",
      "\n"
     ]
    }
   ],
   "source": [
    "!date"
   ]
  }
 ],
 "metadata": {
  "kernelspec": {
   "display_name": "ROOT C++",
   "language": "c++",
   "name": "root"
  },
  "language_info": {
   "codemirror_mode": "text/x-c++src",
   "file_extension": ".C",
   "mimetype": " text/x-c++src",
   "name": "c++"
  }
 },
 "nbformat": 4,
 "nbformat_minor": 5
}

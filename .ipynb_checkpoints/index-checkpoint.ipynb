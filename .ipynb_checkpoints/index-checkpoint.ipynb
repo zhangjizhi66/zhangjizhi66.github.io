{
 "cells": [
  {
   "cell_type": "markdown",
   "id": "90192136",
   "metadata": {},
   "source": [
    "# 张集智\n",
    "\n",
    "北京大学物理学院技术物理系2021级博士研究生"
   ]
  },
  {
   "cell_type": "markdown",
   "id": "590bf109",
   "metadata": {},
   "source": [
    "### [EURICA](EURICA/indexEURICA.html)\n",
    "\n",
    "### [波形处理](Wave/indexWave.html)"
   ]
  },
  {
   "cell_type": "code",
   "execution_count": 1,
   "id": "8213ab7d",
   "metadata": {},
   "outputs": [
    {
     "name": "stdout",
     "output_type": "stream",
     "text": [
      "2023年 10月 30日 星期一 23:22:28 CST\r\n",
      "\n"
     ]
    }
   ],
   "source": [
    "!date"
   ]
  }
 ],
 "metadata": {
  "kernelspec": {
   "display_name": "ROOT C++",
   "language": "c++",
   "name": "root"
  },
  "language_info": {
   "codemirror_mode": "text/x-c++src",
   "file_extension": ".C",
   "mimetype": " text/x-c++src",
   "name": "c++"
  }
 },
 "nbformat": 4,
 "nbformat_minor": 5
}

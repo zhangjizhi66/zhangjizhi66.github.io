{
 "cells": [
  {
   "cell_type": "markdown",
   "id": "50c1c02f",
   "metadata": {},
   "source": [
    "# ROOT 语句"
   ]
  },
  {
   "cell_type": "markdown",
   "id": "15be18d7",
   "metadata": {},
   "source": [
    "### 直方图不显示统计框\n",
    "\n",
    "```c++\n",
    "gStyle->SetOptStat(0);\n",
    "```"
   ]
  },
  {
   "cell_type": "code",
   "execution_count": 1,
   "id": "e5cae9ce",
   "metadata": {},
   "outputs": [
    {
     "name": "stdout",
     "output_type": "stream",
     "text": [
      "2023年 11月 24日 星期五 15:35:49 CST\r\n",
      "\n"
     ]
    }
   ],
   "source": [
    "!date"
   ]
  }
 ],
 "metadata": {
  "kernelspec": {
   "display_name": "ROOT C++",
   "language": "c++",
   "name": "root"
  },
  "language_info": {
   "codemirror_mode": "text/x-c++src",
   "file_extension": ".C",
   "mimetype": " text/x-c++src",
   "name": "c++"
  }
 },
 "nbformat": 4,
 "nbformat_minor": 5
}

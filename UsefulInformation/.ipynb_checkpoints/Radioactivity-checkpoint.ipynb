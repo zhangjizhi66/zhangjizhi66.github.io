{
 "cells": [
  {
   "cell_type": "markdown",
   "id": "ac840c3a",
   "metadata": {},
   "source": [
    "# 常见放射性"
   ]
  },
  {
   "cell_type": "markdown",
   "id": "df9de122",
   "metadata": {},
   "source": [
    "### X 射线\n",
    "\n",
    "- [Kx射线](pdf/Kx_ray.pdf)\n",
    "\n",
    "### 天然放射性\n",
    "\n",
    "#### [天然放射性衰变链](https://www.nuclear-power.com/nuclear-power/reactor-physics/atomic-nuclear-physics/radioactive-decay/radioactive-decay-chain/#:~:text=In%20physics%2C%20a%20radioactive%20decay%20chain%20is%20a,occurring%20radioactive%20decay%20chains%20known%20as%20radioactive%20series.)\n",
    "\n",
    "<img src=\"img/actinium-series-decay-chain.png\" style=\"zoom:80%\">\n",
    "<img src=\"img/neptunium-series-decay-chain.png\" style=\"zoom:72%\">\n",
    "<img src=\"img/thorium-series-decay-chain.png\" style=\"zoom:80%\">\n",
    "<img src=\"img/uranium-series-decay-chain.png\" style=\"zoom:66%\">\n",
    "\n",
    "<img src=\"img/Natural_radioactivity_0_500.png\" style=\"zoom:70%\">\n",
    "<img src=\"img/Natural_radioactivity_500_1000.png\" style=\"zoom:70%\">\n",
    "<img src=\"img/Natural_radioactivity_1000_2000.png\" style=\"zoom:70%\">\n",
    "<img src=\"img/Natural_radioactivity_2000_3000.png\" style=\"zoom:70%\">\n",
    "\n",
    "- [40K](pdf/40K.pdf): 1460 keV\n",
    "\n",
    "- [228Ac](pdf/228Ac.pdf)\n",
    "\n",
    "- [214Bi](pdf/214Bi.pdf)\n",
    "\n",
    "### 其他放射性\n",
    "\n",
    "- [Common_radioactivity.pdf](Common_radioactivity.pdf)\n",
    "\n",
    "- [22Na](pdf/22Na.pdf): 1275 keV\n",
    "\n",
    "- [54Mn](pdf/54Mn.pdf): 834 keV\n",
    "\n",
    "- [60Co](pdf/60Co.pdf): 1173 1332 keV\n",
    "\n",
    "- [24Na](pdf/24Na.pdf): 1369 2754 keV"
   ]
  },
  {
   "cell_type": "code",
   "execution_count": 1,
   "id": "407b4608",
   "metadata": {},
   "outputs": [
    {
     "name": "stdout",
     "output_type": "stream",
     "text": [
      "2023年 11月 16日 星期四 10:34:24 CST\r\n",
      "\n"
     ]
    }
   ],
   "source": [
    "!date"
   ]
  }
 ],
 "metadata": {
  "kernelspec": {
   "display_name": "ROOT C++",
   "language": "c++",
   "name": "root"
  },
  "language_info": {
   "codemirror_mode": "text/x-c++src",
   "file_extension": ".C",
   "mimetype": " text/x-c++src",
   "name": "c++"
  }
 },
 "nbformat": 4,
 "nbformat_minor": 5
}

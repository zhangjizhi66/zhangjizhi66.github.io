{
 "cells": [
  {
   "cell_type": "markdown",
   "id": "6408364f",
   "metadata": {},
   "source": [
    "# Ubuntu 配置"
   ]
  },
  {
   "cell_type": "markdown",
   "id": "870f319c",
   "metadata": {},
   "source": [
    "### CERN ROOT + Jupyter Notebook 安装\n",
    "\n",
    "- 自动安装脚本\n",
    "   - https://github.com/wuhongyi/BasicConfiguration\n",
    "\n",
    "### Jupyter Notebook 配置\n",
    "\n",
    "- 生成配置文件\n",
    "```shell\n",
    "$ jupyter notebook --generate-config\n",
    "```\n",
    "\n",
    "- 生成密码密文\n",
    "```shell\n",
    "$ ipython\n",
    "```\n",
    "```python\n",
    "In [1]: from notebook.auth import passwd\n",
    "In [2]: passwd()     \n",
    "Enter password: \n",
    "Verify password: \n",
    "Out[2]: 'xxx'\n",
    "In [3]: quit\n",
    "```\n",
    "\n",
    "- 将配置文件复制到 jupyter 主文件夹下，并加入如下配置\n",
    "```python\n",
    "c.NotebookApp.password='xxx'   # 密码密文\n",
    "c.NotebookApp.port=8888    # 端口号\n",
    "c.NotebookApp.ip='*'\n",
    "c.NotebookApp.allow_remote_access=True\n",
    "c.NotebookApp.open_browser=False\n",
    "```"
   ]
  },
  {
   "cell_type": "markdown",
   "id": "5714a96b",
   "metadata": {},
   "source": [
    "### clash 配置\n",
    "\n",
    "- 更新配置文件\n",
    "```shell\n",
    "$ wget -O ~/clash/config.yaml https://subs.941321.xyz/clash/zhangjizhi@pku.edu.cn/z3zna422r8\n",
    "```\n",
    "\n",
    "- 设置代理\n",
    "   - http_proxy\n",
    "      - http://127.0.0.1:7890\n",
    "   - https\n",
    "      - http://127.0.0.1:7890\n",
    "   - ftp\n",
    "      - 0\n",
    "   - socks\n",
    "      - socks5://127.0.0.1:7891\n",
    "   - no\n",
    "      - localhost, 127.0.0.0/8, ::1"
   ]
  },
  {
   "cell_type": "code",
   "execution_count": 1,
   "id": "93cbab2e",
   "metadata": {},
   "outputs": [
    {
     "name": "stdout",
     "output_type": "stream",
     "text": [
      "2023年 10月 27日 星期五 11:29:34 CST\r\n",
      "\n"
     ]
    }
   ],
   "source": [
    "!date"
   ]
  }
 ],
 "metadata": {
  "kernelspec": {
   "display_name": "ROOT C++",
   "language": "c++",
   "name": "root"
  },
  "language_info": {
   "codemirror_mode": "text/x-c++src",
   "file_extension": ".C",
   "mimetype": " text/x-c++src",
   "name": "c++"
  }
 },
 "nbformat": 4,
 "nbformat_minor": 5
}

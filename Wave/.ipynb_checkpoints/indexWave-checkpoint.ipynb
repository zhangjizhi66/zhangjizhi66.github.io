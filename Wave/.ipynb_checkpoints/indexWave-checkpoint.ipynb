{
 "cells": [
  {
   "cell_type": "markdown",
   "id": "74b02d9a",
   "metadata": {},
   "source": [
    "# 波形处理"
   ]
  },
  {
   "cell_type": "markdown",
   "id": "7eaf97ca",
   "metadata": {},
   "source": [
    "### CSNS 实验\n",
    "\n",
    "- [CSNS反角白光中子源概况](Wave/CSNSoverview.html)\n",
    "\n",
    "- [202311实验记录](CSNS202311record.html)\n",
    "\n",
    "### 波形算法\n",
    "\n",
    "- [LaBr3](Wave/LaBr3wave.html)\n",
    "\n",
    "- [液闪](Wave/LSwave.html)"
   ]
  },
  {
   "cell_type": "code",
   "execution_count": 1,
   "id": "6ef3a8ba",
   "metadata": {},
   "outputs": [
    {
     "name": "stdout",
     "output_type": "stream",
     "text": [
      "2023年 10月 30日 星期一 23:24:29 CST\r\n",
      "\n"
     ]
    }
   ],
   "source": [
    "!date"
   ]
  }
 ],
 "metadata": {
  "kernelspec": {
   "display_name": "ROOT C++",
   "language": "c++",
   "name": "root"
  },
  "language_info": {
   "codemirror_mode": "text/x-c++src",
   "file_extension": ".C",
   "mimetype": " text/x-c++src",
   "name": "c++"
  }
 },
 "nbformat": 4,
 "nbformat_minor": 5
}

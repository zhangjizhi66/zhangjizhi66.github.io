{
 "cells": [
  {
   "cell_type": "markdown",
   "id": "8a03adee",
   "metadata": {},
   "source": [
    "# LaBr3 波形解堆积算法"
   ]
  },
  {
   "cell_type": "markdown",
   "id": "efc87f5b",
   "metadata": {},
   "source": [
    "### 数据\n",
    "\n",
    "- 每轮约 20 万个长波形，每个波形 20000 个点\n",
    "\n",
    "### 触发逻辑\n",
    "\n",
    "- 快速滤波 (fastfilter) 过阈触发\n",
    "   - 前 1000 个点无信号，用于评估噪声水平\n",
    "   - 取噪声水平的若干倍为阈值\n",
    "   \n",
    "### 标准波形与峰宽修正\n",
    "\n",
    "- 取不存在堆积的波形进行分析\n",
    "   - 堆积即触发前后一定范围存在其他触发\n",
    "- 计算 psd，画出 psd:total 粒子鉴别图\n",
    "- 在粒子鉴别图上挑选典型的中子/gamma区域，作 TCutG\n",
    "- 在 TCutG 范围内，分别计算标准中子波形和标准gamma波形\n",
    "   - 标准波形按照高度进行归一\n",
    "\n",
    "### 波形解堆积与拟合\n",
    "\n",
    "- 将原始长波形分段，堆积的信号一起拟合，无堆积的信号相互分离\n",
    "- 以触发位置为初值，进行第一次拟合\n",
    "   - 将各峰分别为中子/gamma的各种情况进行排列，从$2^n$种排列中选择 chi2/ndf 最小的\n",
    "   - 为避免偶然的严重堆积造成排列数过大、程序堵塞，将堆积数过大的长波形丢弃\n",
    "- 计算拟合结果与原波形的残差，对残差图寻峰，在峰值处尝试添加新峰拟合\n",
    "   - 添加新峰，要求残差大于噪声水平，且新峰拟合后的位置不能与已有峰重合，且必须将 chi2/ndf 降低到一定比例以下\n",
    "   - 若以上条件不满足，则选取残差的另一峰值尝试\n",
    "   - 若确定添加新峰，则再次计算拟合残差，重复本步骤\n",
    "   - 若所有残差峰值处都不能添加新峰，则结束循环\n",
    "- 最后再次检查并剔除位置重合的峰（添加新峰可能会影响原有峰位）"
   ]
  },
  {
   "cell_type": "code",
   "execution_count": 1,
   "id": "0c513f0e",
   "metadata": {},
   "outputs": [
    {
     "name": "stdout",
     "output_type": "stream",
     "text": [
      "2023年 10月 28日 星期六 11:02:58 CST\r\n",
      "\n"
     ]
    }
   ],
   "source": [
    "!date"
   ]
  }
 ],
 "metadata": {
  "kernelspec": {
   "display_name": "ROOT C++",
   "language": "c++",
   "name": "root"
  },
  "language_info": {
   "codemirror_mode": "text/x-c++src",
   "file_extension": ".C",
   "mimetype": " text/x-c++src",
   "name": "c++"
  }
 },
 "nbformat": 4,
 "nbformat_minor": 5
}

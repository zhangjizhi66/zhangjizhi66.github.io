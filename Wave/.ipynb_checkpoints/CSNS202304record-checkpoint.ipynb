{
 "cells": [
  {
   "cell_type": "markdown",
   "id": "58c81a7e",
   "metadata": {},
   "source": [
    "# CSNS 实验记录\n",
    "\n",
    "时间：2023.4.26 - 2023.4.28"
   ]
  },
  {
   "cell_type": "markdown",
   "id": "e4763f8e",
   "metadata": {},
   "source": [
    "探测器：液体闪烁体（距离20cm）、LaBr闪烁体（距离25cm）、CZT（距离25cm）\n",
    "\n",
    "每轮时长：1h\n",
    "\n",
    "#### 刻度\n",
    "\n",
    "- Run 273 137Cs LaBr3\n",
    "- Run 274 137Cs LS\n",
    "- Run 275 60Co LaBr3\n",
    "- Run 276 60Co LS\n",
    "- Run 277 22Na LaBr3\n",
    "- Run 278 22Na LS\n",
    "- Run 279 22Na CZT\n",
    "\n",
    "#### 靶：$1mm$ 铁\n",
    "\n",
    "- Run 293-319\n",
    "\n",
    "#### 靶：$1mm$ 钛\n",
    "\n",
    "- Run 320-322\n",
    "\n",
    "#### 靶：$1mm$ 铬\n",
    "\n",
    "- Run 323-324\n",
    "\n",
    "#### 靶：$1mm$ 碳\n",
    "\n",
    "- Run 325-326\n",
    "\n",
    "#### 靶：$0.05mm$ 金\n",
    "\n",
    "- Run 327-329\n",
    "\n",
    "#### 靶：铀238\n",
    "\n",
    "- Run 330-342"
   ]
  },
  {
   "cell_type": "code",
   "execution_count": 1,
   "id": "165d6e7a",
   "metadata": {},
   "outputs": [
    {
     "name": "stdout",
     "output_type": "stream",
     "text": [
      "2023年 11月 13日 星期一 16:02:41 CST\r\n",
      "\n"
     ]
    }
   ],
   "source": [
    "!date"
   ]
  }
 ],
 "metadata": {
  "kernelspec": {
   "display_name": "ROOT C++",
   "language": "c++",
   "name": "root"
  },
  "language_info": {
   "codemirror_mode": "text/x-c++src",
   "file_extension": ".C",
   "mimetype": " text/x-c++src",
   "name": "c++"
  }
 },
 "nbformat": 4,
 "nbformat_minor": 5
}

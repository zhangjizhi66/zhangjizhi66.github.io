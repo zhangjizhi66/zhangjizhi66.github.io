{
 "cells": [
  {
   "cell_type": "markdown",
   "id": "25fa0ff1",
   "metadata": {},
   "source": [
    "# 中国散裂中子源-反角白光终端 (CSNS Back-n)"
   ]
  },
  {
   "cell_type": "markdown",
   "id": "4444741d",
   "metadata": {},
   "source": [
    "<img src=\"img/CSNSbackn.png\" style=\"zoom:70%\">\n",
    "\n",
    "### 中子源\n",
    "\n",
    "- 利用中高能质子束轰击重金属靶通过散裂反应产生中子。CSNS 加速器提供的质子束流能量为 1.6GeV。在此束流的轰击下，靶原子核被激发，在退激时各向同性地发射 MeV 量级能量的中子、质子、氘、氚、氦3、α等粒子，其中中子是最可能的发射粒子。\n",
    "\n",
    "### 反角白光终端\n",
    "\n",
    "- 反角：即沿质子束入射通道出射的中子\n",
    "\n",
    "- 白光：中子只经过靶中冷却水的轻度慢化，中子能谱非常宽，其中快中子和高能中子成份很高，因而具有典型的白光中子源特征，能区跨度超过8个量级 (1eV - 100MeV)。\n",
    "\n",
    "### 束流结构\n",
    "\n",
    "- 质子束为脉冲式(25Hz/40ms)，在一个 40ms 区间内有两团宽度为 200ns、间隔为 200ns 的质子脉冲依次而来（总时间600ns）。\n",
    "\n",
    "<img src=\"img/beamstructure.png\" style=\"zoom:40%\">\n",
    "\n",
    "- 下图液闪信号分布中，横轴每个点为 2ns。\n",
    "   - 1650 和 1850 两个峰反映了双束团结构，为散裂反应中产生的 gamma。其间隔恰好为 400ns。\n",
    "   - 其他平台部分为中子和 gamma 的混合。其中中子的时间（飞行时间）与中子能量关联，时间越靠前，能量越高。\n",
    "\n",
    "<img src=\"img/timedistributionLS.png\" style=\"zoom:50%\">"
   ]
  },
  {
   "cell_type": "code",
   "execution_count": 1,
   "id": "eb7d9ef4",
   "metadata": {},
   "outputs": [
    {
     "name": "stdout",
     "output_type": "stream",
     "text": [
      "2023年 10月 29日 星期日 18:47:50 CST\r\n",
      "\n"
     ]
    }
   ],
   "source": [
    "!date"
   ]
  }
 ],
 "metadata": {
  "kernelspec": {
   "display_name": "ROOT C++",
   "language": "c++",
   "name": "root"
  },
  "language_info": {
   "codemirror_mode": "text/x-c++src",
   "file_extension": ".C",
   "mimetype": " text/x-c++src",
   "name": "c++"
  }
 },
 "nbformat": 4,
 "nbformat_minor": 5
}

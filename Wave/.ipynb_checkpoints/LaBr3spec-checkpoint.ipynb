{
 "cells": [
  {
   "cell_type": "markdown",
   "id": "24746f10",
   "metadata": {},
   "source": [
    "# LaBr3 能谱"
   ]
  },
  {
   "cell_type": "markdown",
   "id": "50f3f970",
   "metadata": {},
   "source": [
    "### 特征峰识别\n",
    "\n",
    "- $^{139}La(n,n'\\gamma)^{139}La$\n",
    "   - 165.8 keV\n",
    "   - 1043.1 keV\n",
    "\n",
    "- $^{79}Br(n,n'\\gamma)^{79}Br$\n",
    "   - 217.1 keV\n",
    "   - 261.4 keV\n",
    "   - 306.5 keV\n",
    "\n",
    "- $^{81}Br(n,n'\\gamma)^{81}Br$\n",
    "   - 276.4 keV\n",
    "   \n",
    "- $^{56}Fe(n,n'\\gamma)^{56}Fe$\n",
    "   - 846.8 keV\n",
    "   - 1238.3 keV\n",
    "   \n",
    "- $^{54}Fe(n,n'\\gamma)^{54}Fe$\n",
    "   - 1408.1 keV\n",
    "\n",
    "108\n",
    "123\n",
    "166*\n",
    "196\n",
    "217*\n",
    "261*\n",
    "277*\n",
    "307*\n",
    "\n",
    "383\n",
    "475(thermal)\n",
    "534(thermal)\n",
    "568*\n",
    "847*\n",
    "1042*\n",
    "1238*\n",
    "1408*\n",
    "1798"
   ]
  },
  {
   "cell_type": "code",
   "execution_count": 1,
   "id": "8061b306",
   "metadata": {},
   "outputs": [
    {
     "name": "stdout",
     "output_type": "stream",
     "text": [
      "2023年 10月 29日 星期日 20:21:59 CST\r\n",
      "\n"
     ]
    }
   ],
   "source": [
    "!date"
   ]
  }
 ],
 "metadata": {
  "kernelspec": {
   "display_name": "ROOT C++",
   "language": "c++",
   "name": "root"
  },
  "language_info": {
   "codemirror_mode": "text/x-c++src",
   "file_extension": ".C",
   "mimetype": " text/x-c++src",
   "name": "c++"
  }
 },
 "nbformat": 4,
 "nbformat_minor": 5
}

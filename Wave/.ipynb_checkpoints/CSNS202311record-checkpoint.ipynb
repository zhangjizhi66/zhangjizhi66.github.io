{
 "cells": [
  {
   "cell_type": "markdown",
   "id": "58c81a7e",
   "metadata": {},
   "source": [
    "# CSNS 实验记录\n",
    "\n",
    "时间：2023.10.27 - 2023.10.30\n",
    "\n",
    "流强：140 kW"
   ]
  },
  {
   "cell_type": "markdown",
   "id": "e4763f8e",
   "metadata": {},
   "source": [
    "## 1、液闪实验\n",
    "\n",
    "探测器：直径 2 英寸液体闪烁体、CLYC\n",
    "\n",
    "#### 靶：$\\Phi25\\times20mm$ 石墨\n",
    "\n",
    "- Run 1004 30cm 3min\n",
    "- Run 1006 30cm 2h\n",
    "- Run 1007 25cm 2h\n",
    "- Run 1008 40cm 2h\n",
    "- Run 1009 50cm 2h\n",
    "- Run 1010 60cm 2h\n",
    "\n",
    "#### 靶：$\\Phi25\\times40mm$ 石墨\n",
    "\n",
    "- Run 1011 30cm 2h\n",
    "\n",
    "#### 靶：$\\Phi25\\times15mm$ 锆\n",
    "\n",
    "- Run 1012 30cm 3min\n",
    "- Run 1013 30cm 2h\n",
    "- Run 1014 40cm 2h\n",
    "\n",
    "#### 空靶\n",
    "\n",
    "- Run 1015 30cm 3min\n",
    "- Run 1016 30cm 2h\n",
    "- Run 1017 30cm 2h\n",
    "- Run 1018 30cm 2h\n",
    "\n",
    "#### 刻度\n",
    "\n",
    "- Run 1019 LS 137Cs\n",
    "- Run 1020 LS 22Na\n",
    "- Run 1022 CLYC 22Na\n",
    "- Run 1023 CLYC 137Cs\n",
    "\n",
    "#### 靶：$\\Phi25\\times20mm$ 石墨\n",
    "\n",
    "- Run 1024 30cm 4h\n",
    "- Run 1025-1032 无束流\n",
    "- Run 1033 30cm 4h\n",
    "- Run 1034 50cm 2h30min"
   ]
  },
  {
   "cell_type": "markdown",
   "id": "417dc15a",
   "metadata": {},
   "source": [
    "## 2、LaBr3 实验\n",
    "\n",
    "探测器：直径 2 英寸 LaBr3 闪烁体，安装角度 45 deg\n",
    "\n",
    "#### 刻度\n",
    "\n",
    "- Run 1035 137Cs\n",
    "- Run 1036 22Na\n",
    "\n",
    "#### 靶：$\\Phi40\\times1mm$ 铁\n",
    "\n",
    "- Run 1037 30cm 4min\n",
    "- Run 1038 30cm 2h\n",
    "- Run 1039 25cm 2h\n",
    "- Run 1040 40cm 2h\n",
    "- Run 1041 50cm 2h\n",
    "- Run 1042 35cm 2h\n",
    "- Run 1043 20cm 2h\n",
    "- Run 1044 本底测量\n",
    "- Run 1045 30cm 5h30min\n",
    "- Run 1046 30cm 5h"
   ]
  },
  {
   "cell_type": "code",
   "execution_count": 1,
   "id": "165d6e7a",
   "metadata": {},
   "outputs": [
    {
     "name": "stdout",
     "output_type": "stream",
     "text": [
      "2023年 10月 30日 星期一 20:34:22 CST\r\n",
      "\n"
     ]
    }
   ],
   "source": [
    "!date"
   ]
  }
 ],
 "metadata": {
  "kernelspec": {
   "display_name": "ROOT C++",
   "language": "c++",
   "name": "root"
  },
  "language_info": {
   "codemirror_mode": "text/x-c++src",
   "file_extension": ".C",
   "mimetype": " text/x-c++src",
   "name": "c++"
  }
 },
 "nbformat": 4,
 "nbformat_minor": 5
}

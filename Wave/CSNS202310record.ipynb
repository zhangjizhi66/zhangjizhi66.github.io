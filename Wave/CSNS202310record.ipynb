{
 "cells": [
  {
   "cell_type": "markdown",
   "id": "58c81a7e",
   "metadata": {},
   "source": [
    "# CSNS 实验记录\n",
    "\n",
    "时间：2023.9.30 - 2023.10.3"
   ]
  },
  {
   "cell_type": "markdown",
   "id": "417dc15a",
   "metadata": {},
   "source": [
    "## LaBr3 实验\n",
    "\n",
    "探测器：LaBr3 闪烁体\n",
    "\n",
    "#### 刻度\n",
    "\n",
    "- Run 117 137Cs\n",
    "- Run 119 22Na\n",
    "\n",
    "#### 靶：\n",
    "\n",
    "- Run 218 60cm\n",
    "- Run 219 50cm\n",
    "- Run 220 40cm\n",
    "- Run 221 30cm\n",
    "- Run 222 35cm\n",
    "- Run 223 45cm\n",
    "\n",
    "#### 刻度\n",
    "\n",
    "- Run 234 \n",
    "- Run 235 "
   ]
  },
  {
   "cell_type": "code",
   "execution_count": 1,
   "id": "165d6e7a",
   "metadata": {},
   "outputs": [
    {
     "name": "stdout",
     "output_type": "stream",
     "text": [
      "2023年 11月 13日 星期一 10:26:12 CST\r\n",
      "\n"
     ]
    }
   ],
   "source": [
    "!date"
   ]
  }
 ],
 "metadata": {
  "kernelspec": {
   "display_name": "ROOT C++",
   "language": "c++",
   "name": "root"
  },
  "language_info": {
   "codemirror_mode": "text/x-c++src",
   "file_extension": ".C",
   "mimetype": " text/x-c++src",
   "name": "c++"
  }
 },
 "nbformat": 4,
 "nbformat_minor": 5
}

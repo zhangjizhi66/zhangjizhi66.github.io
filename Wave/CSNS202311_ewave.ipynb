{
 "cells": [
  {
   "cell_type": "markdown",
   "id": "24746f10",
   "metadata": {},
   "source": [
    "# LaBr3 能谱与时间谱"
   ]
  },
  {
   "cell_type": "markdown",
   "id": "50f3f970",
   "metadata": {},
   "source": [
    "<img src=\"img/CSNS202311ewave.png\" style=\"zoom:20%\">\n",
    "\n",
    "### 特征峰识别\n",
    "\n",
    "- $^{139}La(n,n'\\gamma)^{139}La$\n",
    "   - 165.8 keV\n",
    "   - 1043.1 keV\n",
    "\n",
    "- $^{79}Br(n,n'\\gamma)^{79}Br$\n",
    "   - 217.1 keV\n",
    "   - 261.4 keV\n",
    "   - 306.5 keV\n",
    "\n",
    "- $^{81}Br(n,n'\\gamma)^{81}Br$\n",
    "   - 276.4 keV\n",
    "   \n",
    "- $^{56}Fe(n,n'\\gamma)^{56}Fe$\n",
    "   - 846.8 keV\n",
    "   - 1238.3 keV\n",
    "   \n",
    "- $^{54}Fe(n,n'\\gamma)^{54}Fe$\n",
    "   - 1408.1 keV\n",
    "\n",
    "108\n",
    "123\n",
    "166*\n",
    "196\n",
    "217*\n",
    "261*\n",
    "277*\n",
    "307*\n",
    "\n",
    "383\n",
    "475(thermal)\n",
    "534(thermal)\n",
    "568*\n",
    "847*\n",
    "1042*\n",
    "1238*\n",
    "1408*\n",
    "1798"
   ]
  },
  {
   "cell_type": "markdown",
   "id": "5fb05723",
   "metadata": {},
   "source": [
    "<img src=\"img/CSNS202311etwave.png\" style=\"zoom:60%\">\n",
    "\n",
    "#### 时间零点\n",
    "$$t_{\\gamma}=3295.28ns$$\n",
    "$$L/c=\\cfrac{76m}{0.3m/ns}=253.33ns$$\n",
    "$$t_0=t_{\\gamma}-\\cfrac{L}{c}=3041.95ns$$\n",
    "\n",
    "#### 中子能量"
   ]
  },
  {
   "cell_type": "code",
   "execution_count": 1,
   "id": "ec015d81",
   "metadata": {},
   "outputs": [],
   "source": [
    "t0=3042;\n",
    "L=76;"
   ]
  },
  {
   "cell_type": "code",
   "execution_count": 2,
   "id": "b783ea65",
   "metadata": {},
   "outputs": [
    {
     "name": "stdout",
     "output_type": "stream",
     "text": [
      "4000 ns\n",
      "32.8982 MeV"
     ]
    }
   ],
   "source": [
    "t=4000;\n",
    "cout<<t<<\" ns\"<<'\\n'<<pow(72.3*L/(t-t0), 2)<<\" MeV\";"
   ]
  },
  {
   "cell_type": "code",
   "execution_count": 3,
   "id": "2364c5fb",
   "metadata": {},
   "outputs": [
    {
     "name": "stdout",
     "output_type": "stream",
     "text": [
      "15000 ns\n",
      "0.211148 MeV"
     ]
    }
   ],
   "source": [
    "t=15000;\n",
    "cout<<t<<\" ns\"<<'\\n'<<pow(72.3*L/(t-t0), 2)<<\" MeV\";"
   ]
  },
  {
   "cell_type": "code",
   "execution_count": 4,
   "id": "a6ea6c30",
   "metadata": {},
   "outputs": [
    {
     "name": "stdout",
     "output_type": "stream",
     "text": [
      "35000 ns\n",
      "0.0295627 MeV"
     ]
    }
   ],
   "source": [
    "t=35000;\n",
    "cout<<t<<\" ns\"<<'\\n'<<pow(72.3*L/(t-t0), 2)<<\" MeV\";"
   ]
  },
  {
   "cell_type": "code",
   "execution_count": 5,
   "id": "8061b306",
   "metadata": {},
   "outputs": [
    {
     "name": "stdout",
     "output_type": "stream",
     "text": [
      "2023年 11月 17日 星期五 11:18:13 CST\r\n",
      "\n"
     ]
    }
   ],
   "source": [
    "!date"
   ]
  }
 ],
 "metadata": {
  "kernelspec": {
   "display_name": "ROOT C++",
   "language": "c++",
   "name": "root"
  },
  "language_info": {
   "codemirror_mode": "text/x-c++src",
   "file_extension": ".C",
   "mimetype": " text/x-c++src",
   "name": "c++"
  }
 },
 "nbformat": 4,
 "nbformat_minor": 5
}

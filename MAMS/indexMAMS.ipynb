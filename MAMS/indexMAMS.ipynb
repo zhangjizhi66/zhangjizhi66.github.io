{
 "cells": [
  {
   "cell_type": "markdown",
   "id": "7c5ca0e2",
   "metadata": {},
   "source": [
    "# 小型 $\\alpha$ 磁谱仪"
   ]
  },
  {
   "cell_type": "markdown",
   "id": "7a9b3c69",
   "metadata": {},
   "source": [
    "- [束流光学](particle_optics.html)\n",
    "- [磁谱仪设计](magnetic_spectrometer.html)\n",
    "- [Comsol模拟](comsol_simulation.html)"
   ]
  },
  {
   "cell_type": "code",
   "execution_count": 1,
   "id": "16a04eef",
   "metadata": {},
   "outputs": [
    {
     "name": "stdout",
     "output_type": "stream",
     "text": [
      "2023年 11月 15日 星期三 09:58:34 CST\r\n",
      "\n"
     ]
    }
   ],
   "source": [
    "!date"
   ]
  }
 ],
 "metadata": {
  "kernelspec": {
   "display_name": "ROOT C++",
   "language": "c++",
   "name": "root"
  },
  "language_info": {
   "codemirror_mode": "text/x-c++src",
   "file_extension": ".C",
   "mimetype": " text/x-c++src",
   "name": "c++"
  }
 },
 "nbformat": 4,
 "nbformat_minor": 5
}

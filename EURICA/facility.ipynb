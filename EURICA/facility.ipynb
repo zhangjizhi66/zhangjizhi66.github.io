{
 "cells": [
  {
   "cell_type": "markdown",
   "id": "d8e0323e",
   "metadata": {},
   "source": [
    "# EURICA 实验概况"
   ]
  },
  {
   "cell_type": "markdown",
   "id": "cc86d458",
   "metadata": {},
   "source": [
    "<img src=\"img/bigrips.png\" style=\"zoom:70%\">\n",
    "\n",
    "## 束流\n",
    "\n",
    "#### 初级束\n",
    "\n",
    "- 束流：238U，经过 IRC 和 SRC 等多级加速器，被加速至 345MeV/u。\n",
    "- 靶：9Be，厚度 3mm。\n",
    "- 238U 在 9Be 靶上发生诱发裂变，产生多种丰中子产物。根据逆动力学，这些产物会形成丰中子次级束。\n",
    "\n",
    "#### 次级束\n",
    "\n",
    "- 次级束依次经过束流线 BigRIPS 和零度磁谱仪 ZDS (Zero Degree Spectrometer)，进行分离、提纯与鉴别，随后注入探测阵列。\n",
    "- 束流线 BigRIPS 分为两段：\n",
    "   - 第一段为 F0-F2，对次级束进行分离提纯（利用不同质荷比 A/Q 和动量 P 的粒子在磁场中偏转半径不同）。\n",
    "   - 第二段为 F3-F7，测量粒子鉴别所需的飞行时间 TOF 和磁刚度 Bρ。\n",
    "      - TOF 通过 F3 和 F7 处的两个塑料闪烁体测量，间距 46.976m。\n",
    "      - Bρ通过 F3、F5、F7 处的三个平行板雪崩探测器 (PPAC) 测量。\n",
    "- 零度磁谱仪 ZDS 用于辅助粒子鉴别，测量粒子的能损 $\\Delta{E}$。\n",
    "   - 能损 $\\Delta{E}$ 通过 F11 处的多丝正比室测量。\n",
    "- 利用 $\\Delta{E}-B\\rho-TOF$ 方法进行次级束粒子鉴别，确定出原子序数 Z 与质荷比 A/Q。\n",
    "\n",
    "## 探测系统\n",
    "\n",
    "#### 带电粒子阻停和探测系统\n",
    "\n",
    "- 8 块双面硅微条探测器 (DSSD) 构成的带电粒子探测阵列，简称 WAS3ABi (Wide-range Active Silicon-Strip Stopper Array for Beta and ion detection)。\n",
    "- 丰中子次级束注入 DSSD 并被阻停，随后发生 β 衰变。DSSD 主要探测到次级束粒子（重离子）和衰变产生的 β 粒子。\n",
    "- 为适应 β 衰变实验的情况，并提高可承受的计数率，探测系统的设计有如下特点：\n",
    "   - 高颗粒度：每块 DSSD 厚度 1mm，分为 60X40 像素，每像素尺寸为 1mmX1mm。这使得不同能量的重离子注入不同深度，大大降低了每个像素的计数率，减少了堆积，同时提供了很好的位置分辨。\n",
    "   - 前放采用高增益设置，使重离子的高能信号饱和，而 β 粒子的低能信号不饱和。这样，对于 β 粒子，寻找能量最高的像素作为实际入射位置（其他像素为感应信号或能量共享信号）；对于重离子，则是利用前沿定时的 timewalk 效应（能量越高，定时点越靠前），寻找时间最快的像素作为实际入射位置。\n",
    "   - 前放采用小反馈电阻。重离子的高能信号会给前放带来很大的死时间。小反馈电阻可以使信号更快衰减，减小死时间。实验中采用 1MΩ 反馈电阻，死时间仅为 us 量级。\n",
    "\n",
    "<img src=\"img/WAS3ABi.png\" style=\"zoom:50%\">\n",
    "   \n",
    "#### γ 射线探测系统\n",
    "\n",
    "- 12 个 cluster 型探测器构成的 γ 射线探测阵列，简称 EURICA (Euroball-RIKEN Cluster Array)。每个 cluster 由 7 个高纯锗探测器 (HPGe) 组成。\n",
    "- cluster 摆放角度：51 度 5 个，90 度 2 个，129 度 5 个，围绕 WAS3ABi 阵列环形布置。\n",
    "- 门宽设置为 100us\n",
    "\n",
    "<img src=\"img/EURICA.png\" style=\"zoom:90%\">"
   ]
  },
  {
   "cell_type": "code",
   "execution_count": 1,
   "id": "e46871a3",
   "metadata": {},
   "outputs": [
    {
     "name": "stdout",
     "output_type": "stream",
     "text": [
      "2023年 10月 31日 星期二 23:22:04 CST\r\n",
      "\n"
     ]
    }
   ],
   "source": [
    "!date"
   ]
  }
 ],
 "metadata": {
  "kernelspec": {
   "display_name": "ROOT C++",
   "language": "c++",
   "name": "root"
  },
  "language_info": {
   "codemirror_mode": "text/x-c++src",
   "file_extension": ".C",
   "mimetype": " text/x-c++src",
   "name": "c++"
  }
 },
 "nbformat": 4,
 "nbformat_minor": 5
}

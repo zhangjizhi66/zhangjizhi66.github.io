{
 "cells": [
  {
   "cell_type": "markdown",
   "id": "d8e0323e",
   "metadata": {},
   "source": [
    "# EURICA 实验概况"
   ]
  },
  {
   "cell_type": "markdown",
   "id": "cc86d458",
   "metadata": {},
   "source": [
    "<img src=\"img/bigrips.png\" style=\"zoom:70%\">"
   ]
  },
  {
   "cell_type": "code",
   "execution_count": 1,
   "id": "e46871a3",
   "metadata": {},
   "outputs": [
    {
     "name": "stdout",
     "output_type": "stream",
     "text": [
      "2023年 10月 30日 星期一 23:26:53 CST\r\n",
      "\n"
     ]
    }
   ],
   "source": [
    "!date"
   ]
  }
 ],
 "metadata": {
  "kernelspec": {
   "display_name": "ROOT C++",
   "language": "c++",
   "name": "root"
  },
  "language_info": {
   "codemirror_mode": "text/x-c++src",
   "file_extension": ".C",
   "mimetype": " text/x-c++src",
   "name": "c++"
  }
 },
 "nbformat": 4,
 "nbformat_minor": 5
}

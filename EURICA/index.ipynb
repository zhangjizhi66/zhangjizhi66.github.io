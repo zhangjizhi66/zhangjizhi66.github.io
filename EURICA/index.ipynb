{
 "cells": [
  {
   "cell_type": "markdown",
   "id": "f98f9c6d",
   "metadata": {},
   "source": [
    "# EURICA 数据处理"
   ]
  },
  {
   "cell_type": "markdown",
   "id": "267463b3",
   "metadata": {},
   "source": [
    "### 实验概况\n",
    "\n",
    "- [EURICA实验装置](facility.html)\n",
    "\n",
    "### 数据路径\n",
    "\n",
    "- 64服务器\n",
    "- /data/d3/zhangjizhi/EURICA/SeperateData/decay%Z_%A.root\n",
    "   - %Z和%A为注入核的原子序数和质量数\n",
    "   \n",
    "### 数据分析\n",
    "\n",
    "- $\\beta$衰变寿命提取\n",
    "   - 计算$\\beta$粒子数目\n",
    "- $\\gamma$单谱识别目标核跃迁（利用beta衰变寿命）\n",
    "   - $\\gamma$开窗拟合$\\beta$衰变寿命\n",
    "- 延迟$\\gamma$识别\n",
    "\n",
    "- 符合分析\n",
    "   - 子核GxG（瞬发矩阵）\n",
    "   - 子核GxG（延迟矩阵）\n",
    "   - 子核GxG孙子核（beta延迟矩阵）\n",
    "   - 子核GxT（第二级衰变时间矩阵）\n",
    "   - 注入核类似分析"
   ]
  },
  {
   "cell_type": "code",
   "execution_count": 1,
   "id": "86213905",
   "metadata": {},
   "outputs": [
    {
     "name": "stdout",
     "output_type": "stream",
     "text": [
      "2023年 10月 30日 星期一 23:26:46 CST\r\n",
      "\n"
     ]
    }
   ],
   "source": [
    "!date"
   ]
  }
 ],
 "metadata": {
  "kernelspec": {
   "display_name": "ROOT C++",
   "language": "c++",
   "name": "root"
  },
  "language_info": {
   "codemirror_mode": "text/x-c++src",
   "file_extension": ".C",
   "mimetype": " text/x-c++src",
   "name": "c++"
  }
 },
 "nbformat": 4,
 "nbformat_minor": 5
}

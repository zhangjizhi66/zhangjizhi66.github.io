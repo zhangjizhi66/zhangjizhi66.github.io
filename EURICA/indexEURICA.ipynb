{
 "cells": [
  {
   "cell_type": "markdown",
   "id": "f98f9c6d",
   "metadata": {},
   "source": [
    "# EURICA 数据处理"
   ]
  },
  {
   "cell_type": "markdown",
   "id": "267463b3",
   "metadata": {},
   "source": [
    "### 实验概况\n",
    "\n",
    "- [EURICA实验装置](EURICAfacility.html)"
   ]
  },
  {
   "cell_type": "code",
   "execution_count": 1,
   "id": "86213905",
   "metadata": {},
   "outputs": [
    {
     "name": "stdout",
     "output_type": "stream",
     "text": [
      "2023年 10月 30日 星期一 23:26:46 CST\r\n",
      "\n"
     ]
    }
   ],
   "source": [
    "!date"
   ]
  }
 ],
 "metadata": {
  "kernelspec": {
   "display_name": "ROOT C++",
   "language": "c++",
   "name": "root"
  },
  "language_info": {
   "codemirror_mode": "text/x-c++src",
   "file_extension": ".C",
   "mimetype": " text/x-c++src",
   "name": "c++"
  }
 },
 "nbformat": 4,
 "nbformat_minor": 5
}

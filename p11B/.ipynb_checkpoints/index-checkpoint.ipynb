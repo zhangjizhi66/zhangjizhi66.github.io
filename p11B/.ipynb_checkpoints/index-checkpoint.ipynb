{
 "cells": [
  {
   "cell_type": "markdown",
   "id": "2bf60497",
   "metadata": {},
   "source": [
    "# 氢硼聚变反应截面测量实验"
   ]
  },
  {
   "cell_type": "markdown",
   "id": "470a5b7f",
   "metadata": {},
   "source": [
    "- [真空系统](VacuumSystem.html)\n",
    "- [工作记录](worklog.html)"
   ]
  },
  {
   "cell_type": "code",
   "execution_count": 1,
   "id": "06810d43",
   "metadata": {},
   "outputs": [
    {
     "name": "stdout",
     "output_type": "stream",
     "text": [
      "2023年 11月 05日 星期日 18:50:28 CST\r\n",
      "\n"
     ]
    }
   ],
   "source": [
    "!date"
   ]
  }
 ],
 "metadata": {
  "kernelspec": {
   "display_name": "ROOT C++",
   "language": "c++",
   "name": "root"
  },
  "language_info": {
   "codemirror_mode": "text/x-c++src",
   "file_extension": ".C",
   "mimetype": " text/x-c++src",
   "name": "c++"
  }
 },
 "nbformat": 4,
 "nbformat_minor": 5
}

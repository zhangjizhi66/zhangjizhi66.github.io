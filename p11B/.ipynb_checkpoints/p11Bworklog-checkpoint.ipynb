{
 "cells": [
  {
   "cell_type": "markdown",
   "id": "c33fd4a8",
   "metadata": {},
   "source": [
    "# 氢硼实验工作记录"
   ]
  },
  {
   "cell_type": "markdown",
   "id": "2739e5c9",
   "metadata": {},
   "source": [
    "- 2021.10\n",
    "   - 搬运小靶室至中子厅，测试真空\n",
    "- 2022.1\n",
    "   - 拆除旧束流线终端设备\n",
    "   - 真空摄像头改装与测试\n",
    "   - 吊装靶室\n",
    "   - 安装分子泵、测试真空\n",
    "   - pcb 法兰灌胶、刮针\n",
    "\n",
    "### 2022.1.18 金靶弹散实验\n",
    "\n",
    "### 2022.6 实验\n",
    "\n",
    "- 2022.8\n",
    "   - 编写四爪光阑前端控制界面\n",
    "   - 测试步进电机回程差\n",
    "   - 校准限束铁片位置\n",
    "\n",
    "- 2023.5\n",
    "   - 运输靶室及配套设备至中子厅\n",
    "   - 组装靶室支架、冷阱、分子泵等，吊装靶室\n",
    "\n",
    "- 2023.9\n",
    "   - 进行束流线终端准直\n",
    "   - 真空测试\n",
    "   - pcb 法兰灌胶、刮针\n",
    "\n",
    "### 2023.9.18-25 实验\n",
    "\n",
    "- 2023.10\n",
    "   - 数据处理，准备报告"
   ]
  },
  {
   "cell_type": "code",
   "execution_count": 1,
   "id": "033498b1",
   "metadata": {},
   "outputs": [
    {
     "name": "stdout",
     "output_type": "stream",
     "text": [
      "2023年 11月 05日 星期日 18:48:14 CST\r\n",
      "\n"
     ]
    }
   ],
   "source": [
    "!date"
   ]
  }
 ],
 "metadata": {
  "kernelspec": {
   "display_name": "ROOT C++",
   "language": "c++",
   "name": "root"
  },
  "language_info": {
   "codemirror_mode": "text/x-c++src",
   "file_extension": ".C",
   "mimetype": " text/x-c++src",
   "name": "c++"
  }
 },
 "nbformat": 4,
 "nbformat_minor": 5
}

{
 "cells": [
  {
   "cell_type": "markdown",
   "id": "6cd14653",
   "metadata": {},
   "source": [
    "# 真空系统"
   ]
  },
  {
   "cell_type": "markdown",
   "id": "8d3bf693",
   "metadata": {},
   "source": [
    "### 运行\n",
    "\n",
    "1、关闭放气阀和抽气阀\n",
    "\n",
    "2、开启机械泵\n",
    "\n",
    "3、打开抽气阀\n",
    "\n",
    "4、等待真空度降至 20 Pa 以内\n",
    "\n",
    "5、开启分子泵\n",
    "\n",
    "### 关闭\n",
    "\n",
    "1、关闭分子泵\n",
    "\n",
    "2、关闭抽气阀\n",
    "\n",
    "3、关闭机械泵\n",
    "\n",
    "4、打开放气阀\n",
    "\n",
    "## 设备参数\n",
    "\n",
    "### 机械泵\n",
    "\n",
    "- 制造商：沈阳纪维应用技术有限公司\n",
    "- 型号：GWSP600无油涡旋真空泵\n",
    "- 抽速：8.7 L/s\n",
    "- 极限真空度：不高于 1 Pa\n",
    "- 漏率：1e-7 mbar·L/s\n",
    "- 冷却形式：风冷\n",
    "- 进气口规格：KF40\n",
    "- 最高进气温度：50℃\n",
    "\n",
    "### 分子泵\n",
    "\n",
    "- 制造商：北京中科科仪股份有限公司\n",
    "- 型号：FF-250/2000分子泵\n",
    "- 抽速：2000 L/s\n",
    "- 极限真空度：6e-6 Pa\n",
    "- 最大前级压强：200 Pa\n",
    "- 冷却\n",
    "   - 冷却形式：水冷\n",
    "   - 最小冷却水流量：1 L/min\n",
    "   - 最高冷却水温度：25℃\n",
    "- 推荐前级泵抽速：15 L/s\n",
    "- 进气口尺寸：DN250\n",
    "- 排气口尺寸：DN50\n",
    "\n",
    "### 水冷机\n",
    "\n",
    "- 制造商：广州激志机电有限公司\n",
    "- 型号：JZ-3000AK散热型工业冷水机\n",
    "- 最大流量：2 L/min\n",
    "- 接口：直径 8 mm 快速接头"
   ]
  },
  {
   "cell_type": "code",
   "execution_count": 1,
   "id": "28eed66c",
   "metadata": {},
   "outputs": [
    {
     "name": "stdout",
     "output_type": "stream",
     "text": [
      "2023年 11月 10日 星期五 19:38:35 CST\r\n",
      "\n"
     ]
    }
   ],
   "source": [
    "!date"
   ]
  }
 ],
 "metadata": {
  "kernelspec": {
   "display_name": "ROOT C++",
   "language": "c++",
   "name": "root"
  },
  "language_info": {
   "codemirror_mode": "text/x-c++src",
   "file_extension": ".C",
   "mimetype": " text/x-c++src",
   "name": "c++"
  }
 },
 "nbformat": 4,
 "nbformat_minor": 5
}

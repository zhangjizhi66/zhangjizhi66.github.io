{
 "cells": [
  {
   "cell_type": "markdown",
   "id": "f88ffe57",
   "metadata": {},
   "source": [
    "# 日语学习"
   ]
  },
  {
   "cell_type": "markdown",
   "id": "a9fe028a",
   "metadata": {},
   "source": [
    "### 课程笔记\n",
    "\n",
    "- [发音篇](发音篇.html)"
   ]
  },
  {
   "cell_type": "code",
   "execution_count": 1,
   "id": "b9f016e8",
   "metadata": {},
   "outputs": [
    {
     "name": "stdout",
     "output_type": "stream",
     "text": [
      "2023年 11月 15日 星期三 17:13:13 CST\r\n",
      "\n"
     ]
    }
   ],
   "source": [
    "!date"
   ]
  }
 ],
 "metadata": {
  "kernelspec": {
   "display_name": "ROOT C++",
   "language": "c++",
   "name": "root"
  },
  "language_info": {
   "codemirror_mode": "text/x-c++src",
   "file_extension": ".C",
   "mimetype": " text/x-c++src",
   "name": "c++"
  }
 },
 "nbformat": 4,
 "nbformat_minor": 5
}

{
 "cells": [
  {
   "cell_type": "markdown",
   "id": "2aca4531",
   "metadata": {},
   "source": [
    "# 发音篇"
   ]
  },
  {
   "cell_type": "markdown",
   "id": "405e0e97",
   "metadata": {},
   "source": [
    "- 日语的构成\n",
    "   - 汉字 罗马字 平假名 片假名\n",
    "\n",
    "- 五十音规律\n",
    "   - 横排为行，竖排为段。同行同辅音，同段同元音。\n",
    "   - 元音\n",
    "      - a i u e o\n",
    "   - 辅音\n",
    "      - k s t n h m y r w （开始团你还没有拉完）\n",
    "\n",
    "- 发音规律\n",
    "   - 假名发音\n",
    "      - 高音（类似中文一声）\n",
    "      - 低音（类似中文三声）\n",
    "   - 单词发音\n",
    "      - 0调：第一个假名为低音，其余为高音（31111）\n",
    "      - 1调：第一个假名为高音，其余为低音（13333）"
   ]
  },
  {
   "cell_type": "code",
   "execution_count": 1,
   "id": "1b0c2334",
   "metadata": {},
   "outputs": [
    {
     "name": "stdout",
     "output_type": "stream",
     "text": [
      "2023年 11月 15日 星期三 17:22:20 CST\r\n",
      "\n"
     ]
    }
   ],
   "source": [
    "!date"
   ]
  }
 ],
 "metadata": {
  "kernelspec": {
   "display_name": "ROOT C++",
   "language": "c++",
   "name": "root"
  },
  "language_info": {
   "codemirror_mode": "text/x-c++src",
   "file_extension": ".C",
   "mimetype": " text/x-c++src",
   "name": "c++"
  }
 },
 "nbformat": 4,
 "nbformat_minor": 5
}

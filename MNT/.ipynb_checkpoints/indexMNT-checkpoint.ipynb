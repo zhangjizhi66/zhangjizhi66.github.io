{
 "cells": [
  {
   "cell_type": "markdown",
   "id": "1666a5e0",
   "metadata": {},
   "source": [
    "# 多核子转移"
   ]
  },
  {
   "cell_type": "markdown",
   "id": "a1f7c034",
   "metadata": {},
   "source": [
    "- [实验背景](MNTbackground.html)\n",
    "- [实验装置](MNTfacility.html)\n",
    "- [数据处理](MNTanalysis.html)"
   ]
  },
  {
   "cell_type": "code",
   "execution_count": 1,
   "id": "9fe80577",
   "metadata": {},
   "outputs": [
    {
     "name": "stdout",
     "output_type": "stream",
     "text": [
      "2023年 11月 16日 星期四 16:19:42 CST\r\n",
      "\n"
     ]
    }
   ],
   "source": [
    "!date"
   ]
  }
 ],
 "metadata": {
  "kernelspec": {
   "display_name": "ROOT C++",
   "language": "c++",
   "name": "root"
  },
  "language_info": {
   "codemirror_mode": "text/x-c++src",
   "file_extension": ".C",
   "mimetype": " text/x-c++src",
   "name": "c++"
  }
 },
 "nbformat": 4,
 "nbformat_minor": 5
}

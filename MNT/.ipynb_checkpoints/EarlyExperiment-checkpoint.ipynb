{
 "cells": [
  {
   "cell_type": "markdown",
   "id": "4e7d9bb6",
   "metadata": {},
   "source": [
    "# MNT 早期实验"
   ]
  },
  {
   "cell_type": "markdown",
   "id": "16abce16",
   "metadata": {},
   "source": [
    "### 总结\n",
    "\n",
    "- 丰中子的弹核有利于生成丰中子的产物\n",
    "- 能量较高时产物倾向于裂变，而非保持为丰中子的重核\n",
    "- 质子转移反应的截面预言偏离较大(GRAZING)\n",
    "- 比靶更重的产物(trans-target nuclei)截面比理论预言的更高(Langevin)\n",
    "- 利用壳效应合成丰中子核\n",
    "\n",
    "#### 粒子鉴别方法\n",
    "- 望远镜法\n",
    "   - 对于重核无法达到足够的分辨\n",
    "- 飞行时间法\n",
    "   - 现代普遍采用\n",
    "- 离线放射性测量\n",
    "\n",
    "### 实验\n",
    "\n",
    "#### 早期实验\n",
    "\n",
    "- Lee et al, 1982\n",
    "   - 248Cm\n",
    "   - 16O @ 97MeV; 18O @ 98MeV; 20Ne @ 115MeV; 22Ne @ 116MeV\n",
    "   - 通过放射性测量确定产物截面\n",
    "   - 截面随中子数的分布有一峰值；弹核为18O时，相比16O，这一峰值要高2个中子\n",
    "      - 表明丰中子的弹核有利于生成丰中子的产物\n",
    "\n",
    "- Hoffman et al, 1985\n",
    "   - 248Cm\n",
    "   - 40Ca, 48Ca, 多种能量\n",
    "   - 通过放射性测量确定产物截面\n",
    "   - 调节束流能量获得激发函数（截面随能量的变化）\n",
    "   - 激发函数的峰值仅比反应势垒高5%；更高能量下产物裂变的概率增加，截面降低\n",
    "\n",
    "- Schadel et al, 1978, 1982\n",
    "   - 238U, 248Cm\n",
    "   - 238U @ 1761MeV\n",
    "   - 通过放射性测量确定产物截面\n",
    "   - 248Cm作靶时，相比238U，Cf和Fm之间的同位素截面高几个数量级；对于Fm的同位素，截面峰值出现在254Fm，对应4个质子和2个中子的转移\n",
    "\n",
    "#### 验证GRAZING的实验\n",
    "\n",
    "- Szilner et al, 2007\n",
    "   - 96Zr, 薄靶\n",
    "   - 40Ca @ Elab=152MeV\n",
    "   - 用PRISMA磁谱仪鉴别PLF，包括TOF谱仪和望远镜\n",
    "   - 将K和Ca同位素截面与GRAZING的结果比较（对应纯中子转移以及1个质子的转移），符合较好\n",
    "\n",
    "- Corradi et al, 1999\n",
    "   - 238U, 200ug/cm2\n",
    "   - 64Ni @ Elab=390MeV\n",
    "   - TOF谱仪+望远镜\n",
    "   - 计算PLF截面：对角分布和Q值积分（对Q值积分可能相当于对PLF能量积分）\n",
    "   - 与GRAZING的结果相比，纯中子转移符合较好；随着质子转移数增加，实验和理论的偏离变大（理论截面偏小；同时对于PLF的质子剥离反应，其峰值点偏大）\n",
    "\n",
    "- Watanabe et al, 2013\n",
    "   - 198Pt\n",
    "   - 136Xe @ 1088MeV\n",
    "   - 用VAMOS++磁谱仪鉴别PLF；用EXOGAM阵列探测gamma\n",
    "   - 计算了中子蒸发后的截面分布，并与GRAZING的结果比较\n",
    "      - 理论截面分布在某个区域出现低谷，被认为是壳效应的影响；这种低谷在中子蒸发前的理论截面分布中没有出现，在实验中也没有观测到；但低谷对应的中子数约为70，并不是幻数\n",
    "      - PLF的质子剥离截面与实验符合较好，而质子俘获截面被严重低估了\n",
    "\n",
    "#### 验证Langevin模型(by Zagrebaev and Greiner)的实验\n",
    "\n",
    "- Loveland et al, 2011\n",
    "   - 186W\n",
    "   - 160Gd @ Ecm=462MeV\n",
    "   - 产物用Mylar和铝膜收集，随后进行放射性测量；因此稳定核以及短寿命核没有被鉴别\n",
    "   - 比靶更重的产物(trans-target nuclei)截面比理论预言的高出约一个数量级\n",
    "\n",
    "- Comas et al, 2013\n",
    "   - 207Pb\n",
    "   - 64Ni @ 234.7-289.4MeV\n",
    "   - 装置：SHIP；与束流夹角2度以内的产物才能被探测\n",
    "   - 比靶更重的产物(trans-target nuclei)截面比理论预言的更高\n",
    "\n",
    "- Krolas et al\n",
    "   - 208Pb，厚靶\n",
    "   - 64Ni @ Ecm=350MeV\n",
    "   - 用OSIRIS阵列探测gamma，能够鉴别稳定核和短寿命核（在束），以及长寿命核（离线）\n"
   ]
  },
  {
   "cell_type": "code",
   "execution_count": 1,
   "id": "20c8a8da",
   "metadata": {},
   "outputs": [
    {
     "name": "stdout",
     "output_type": "stream",
     "text": [
      "2023年 11月 16日 星期四 16:32:37 CST\r\n",
      "\n"
     ]
    }
   ],
   "source": [
    "!date"
   ]
  }
 ],
 "metadata": {
  "kernelspec": {
   "display_name": "ROOT C++",
   "language": "c++",
   "name": "root"
  },
  "language_info": {
   "codemirror_mode": "text/x-c++src",
   "file_extension": ".C",
   "mimetype": " text/x-c++src",
   "name": "c++"
  }
 },
 "nbformat": 4,
 "nbformat_minor": 5
}

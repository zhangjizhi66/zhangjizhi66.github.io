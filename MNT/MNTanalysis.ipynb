{
 "cells": [
  {
   "cell_type": "markdown",
   "id": "6ed05e84",
   "metadata": {},
   "source": [
    "# MNT 数据分析"
   ]
  },
  {
   "cell_type": "markdown",
   "id": "48d38e3b",
   "metadata": {},
   "source": [
    "### Chico 和 gamma 事件的时间分布特点\n",
    "\n",
    "- Chico 事件经过筛选，仅保留有 2 片 ppac 点火的事件\n",
    "\n",
    "- 用相邻 Chico 事件的 timestamp(ns) 相减，得到时间差的谱\n",
    "   - 表明数据中 Chico 事件之间最短时间间隔为 40 us\n",
    "\n",
    "<img src=\"img/74u8dudhw7jh3.png\" style=\"zoom:80%\">\n",
    "\n",
    "- 将 Chico 事件 +- 20 us 范围内的 gamma 时间填入 histogram （以 Chico 的时间为零点），得到 gamma 的时间谱\n",
    "   - 表明数据中前一 Chico + 1.5 us 至后一 Chico - 1.2 us 的时间范围内，没有 gamma 事件\n",
    "   - 因此将 1 个 Chico 事件，以及其 -1.2 到 +1.5 us 范围内的所有 gamma 事件，打包为 1 个 coincidence\n",
    "\n",
    "<img src=\"img/D573h3g89dsi2.png\" style=\"zoom:80%\">\n",
    "\n",
    "### Chico数据处理\n",
    "\n",
    "#### 两体动力学\n",
    "- 由 CHICO 测量出散射角（极角）后，生成核的动量可以根据动量守恒给出：<math>P_{1,2}=\\frac{P_0 \\sin{\\theta_{2,1}}}{\\sin(\\theta_1+\\theta_2)}</math>，其中<math>P_0</math>为束流动量，<math>P_{1,2}</math>为核子动量，<math>\\theta_{1,2}</math>为核子散射角\n",
    "- CHICO还可测量两核子的飞行时间差，进而给出质量：<math>m_{1,2}=\\frac{\\Delta TOF+M_{tot}d_{2,1}/P_{2,1}}{d_1/P_1+d_2/P_2}</math>\n",
    "- 接下来就可计算核子的飞行速度，进而对其发射的 gamma 进行多普勒修正\n",
    "\n",
    "#### 多普勒展宽与修正\n",
    "- 运动中的核子发射gamma射线，实际探测到的能量为<math>E_s=E\\frac{\\sqrt{1-\\beta^2}}{1-\\beta\\cos\\Theta}\\approx{E}(1+\\beta\\cos\\Theta)</math>，其中E为核子参考系中的gamma能量，Es为实验室参考系中的gamma能量，<math>\\beta=v/c</math>为核子速度，&Theta;为gamma与核子速度方向的夹角。上面的近似仅当<math>\\beta\\leq0.05</math>时有效\n",
    "\n",
    "\n",
    "\n",
    "- 其中gamma与核子的夹角可用各自极坐标表出：<math>\\cos\\Theta=\\sin\\theta_R\\sin\\theta_\\gamma(\\cos\\phi_R\\cos\\phi_\\gamma+\\sin\\phi_R\\sin\\phi_\\gamma)+\\cos\\theta_R\\cos\\theta_\\gamma</math>\n",
    "\n",
    "\n",
    "\n",
    "- 在探测器的立体角范围内，考虑到&Theta;和&beta;的不确定度，多普勒效应引起的谱线展宽为<math>(\\frac{\\Delta{E}}{E})^2=(\\frac{\\beta\\sin\\Theta}{1-\\beta\\cos\\Theta})^2(\\Delta\\Theta)^2-(\\frac{-\\beta+\\cos\\Theta}{(1-\\beta^2)(1-\\cos\\Theta)})^2(\\Delta\\beta)^2+(\\frac{\\Delta{E}}{E})_{intr}^2</math>\n",
    "\n",
    "\n",
    "\n",
    "- 核子退激放出的瞬发 gamma 一定是在核子飞行时产生的，需要进行多普勒修正\n",
    "- 本实验中，距离核反应 30 ns 后的 gamma 判定为延迟 gamma，而核子飞行时间约为 5-20 ns 左右，因此延迟 gamma 不需进行多普勒修正\n",
    "\n",
    "#### 类靶和类弹的鉴别\n",
    "\n",
    "- 进行多普勒修正需要首先确定核子的速度，只有使用了正确的核子进行修正才能还原出期待看到的 gamma 峰（例如想看136Ba的瞬发 gamma 就必须用类弹核进行修正）\n",
    "- 本实验的探测阵列没有进行粒子鉴别的模块；但在多核子转移中，弹靶大致还保留了原来的特征，因此有其他鉴别办法\n",
    "- dTOF-散射角二维谱\n",
    "   - 左边为本次实验，其中的 cut 为类弹核；右边为文献给出的谱\n",
    "   - 由于本实验能量更高，所以类靶和类弹被区分得更远\n",
    "\n",
    "<img src=\"img/6dh7rdgbyyfg7ytvbu.png\" style=\"zoom:80%\">\n",
    "<img src=\"img/TOF散射角二维谱.png\" style=\"zoom:80%\">\n",
    "\n",
    "- 改进：在不作弹靶鉴别的情况下就可以分别计算出两个碎片的质量，进而作出散射角-质量二维谱。在该二维谱上类弹类靶的界限更清晰，物理意义也比较清楚\n",
    "   - 注意：不作弹靶鉴别就不能修正碎片在靶内的能量损失（因为该修正公式对于类弹类靶是不同的），计算出的的质量分布中心分别为130和204.但这不影响弹靶鉴别\n",
    "\n",
    "### 延迟gamma矩阵 delayed-delayed gamma matrix\n",
    "\n",
    "- 通过延迟gamma的符合关系，寻找在MNT中生成的核素\n",
    "\n",
    "- 根据延迟gamma的定义容易推断出，从延迟gamma矩阵搭建的纲图，一定是从某一个isomer出发，终止于另一个isomer或基态\n",
    "   - 本实验中，延迟gamma的定义是瞬发gamma时间分布中心的30ns之后产生的gamma\n",
    "\n",
    "- 寻找方法\n",
    "   - 从弹核和靶核着手，对它俩最低（也是最强）的gamma跃迁开窗，定位开窗谱中所有属于它俩的峰，进而尽可能地搭建它俩的纲图\n",
    "   - 一般开窗谱中会留下一些不属于该核素的峰，于是通过这些峰（如反开窗）确定新的符合关系，然后在nndc的levels and gammas research中查找这符合关系可能属于哪个核，最后定位出一个新的核素\n",
    "   - - 即使输入三重符合关系，nndc一般也会给出多个候选核。对它们进行筛选时没有固定的原则，但一般其布居的最高态的自旋不会高于20，能量不超过3000～4000keV。对于较强的符合，对应的核素不会偏离弹靶很远\n",
    "   - 重复以上步骤，就可以逐步还原出所有出现的核素（只要它有isomer）\n",
    "\n",
    "- 除弹靶之外，在本实验数据搭建的纲图中，大多数核素的gamma衰变只有一条衰变链\n",
    "\n",
    "- 经过验证，交叉符合分析法对于延迟gamma矩阵基本无效，原因有：\n",
    "   - 延迟gamma的总统计相对prompt而言很低\n",
    "   - 要求一对核素都包含有isomer，这个要求并不容易满足\n",
    "   - 由于中子发射，配对的核素的统计还要进一步降低\n",
    "\n",
    "#### 596 keV 处的三角形峰\n",
    "\n",
    "- 峰顶\n",
    "   - 初始产物通过中子发射退激，发射的中子对 HPGe 材料进行库仑激发；峰顶 596 keV 是 74Ge 的第一个激发态\n",
    "- 高能方向的拖尾\n",
    "   - 库仑激发过程中，反冲的 Ge 原子在探头中沉积能量，叠加在其退激的 gamma 沉积能量上，形成拖尾\n",
    "\n",
    "### 瞬发gamma矩阵 prompt-prompt gamma matrix\n",
    "\n",
    "- 开窗谱中强度相近（数量级）的跃迁基本一定是邻近的\n",
    "   - 因此，如果在nndc的纲图上邻近的跃迁没有在开窗谱中看到，那么多半是指认错了核\n",
    "\n",
    "- 多普勒修正后分辨下降，在本实验中合并为 2keV/bin 较为合适\n",
    "\n",
    "- 如果峰位在一个 bin 上特别尖锐（前提是周围形成峰形，单独冒出来的一个bin不算），那么指认到的跃迁能量误差基本在一个 bin 的范围之内；相差1-2个bin以上基本可以确定是指认错了\n"
   ]
  },
  {
   "cell_type": "code",
   "execution_count": 1,
   "id": "8a8bc321",
   "metadata": {},
   "outputs": [
    {
     "name": "stdout",
     "output_type": "stream",
     "text": [
      "2023年 11月 16日 星期四 16:18:56 CST\r\n",
      "\n"
     ]
    }
   ],
   "source": [
    "!date"
   ]
  }
 ],
 "metadata": {
  "kernelspec": {
   "display_name": "ROOT C++",
   "language": "c++",
   "name": "root"
  },
  "language_info": {
   "codemirror_mode": "text/x-c++src",
   "file_extension": ".C",
   "mimetype": " text/x-c++src",
   "name": "c++"
  }
 },
 "nbformat": 4,
 "nbformat_minor": 5
}

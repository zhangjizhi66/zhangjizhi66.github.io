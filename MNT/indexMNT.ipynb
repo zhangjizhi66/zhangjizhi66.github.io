{
 "cells": [
  {
   "cell_type": "markdown",
   "id": "bdd497a7",
   "metadata": {},
   "source": [
    "# 多核子转移"
   ]
  },
  {
   "cell_type": "markdown",
   "id": "bdf92511",
   "metadata": {},
   "source": [
    "- [实验背景](MNTbackground.html)\n",
    "- [实验装置](MNTfacility.html)\n",
    "- [数据处理](MNTanalysis.html)\n",
    "\n",
    "### 文献阅读\n",
    "\n",
    "- [早期实验](EarlyExperiment.html)\n",
    "- [DobonThesis2003: Studies of Neutron-Rich Nuclei Using Deep Inelastic Collisions](paper/DobonThesis2003.html)\n",
    "- [KrolasNPA2003: Gamma coincidence study of 208Pb+350MeV 64Ni collisions](paper/KrolasNPA2003.html)\n",
    "- [BrodaJPG2006: Spectroscopic studies with the use of deep-inelastic heavy-ion reactions](paper/BrodaJPG2006.html)\n",
    "- [KozulinPRC2012: Mass distributions of the system 136Xe+208Pb at laboratory energies around the Coulomb barrier](paper/KozulinPRC2012.html)\n",
    "- [KimThesis2015: Study of Multi-Nucleon Transfer Reaction of 136Xe+198Pt Above the Coulomb Barrier](paper/KimThesis2015.html)\n",
    "- [BarrettThesis2015: Determination of Reaction Product Cross Sections in the 136Xe+208Pb Multi-nucleon Transfer Reaction at Ecm=450MeV](paper/BarrettThesis2015.html)\n",
    "- LijachevThesis2012: Experiments on multi-nucleon transfer reactions with the systems 58,64Ni + 207Pb at SHIP\n",
    "- VogtThesis2017: Multinucleon-Transfer Reactions as a Gateway to Neutron-Rich Actinides and Nuclei near the N=82 and Z=50 Shell Closures"
   ]
  },
  {
   "cell_type": "code",
   "execution_count": 1,
   "id": "f6286334",
   "metadata": {},
   "outputs": [
    {
     "name": "stdout",
     "output_type": "stream",
     "text": [
      "2023年 11月 16日 星期四 16:19:42 CST\r\n",
      "\n"
     ]
    }
   ],
   "source": [
    "!date"
   ]
  }
 ],
 "metadata": {
  "kernelspec": {
   "display_name": "ROOT C++",
   "language": "c++",
   "name": "root"
  },
  "language_info": {
   "codemirror_mode": "text/x-c++src",
   "file_extension": ".C",
   "mimetype": " text/x-c++src",
   "name": "c++"
  }
 },
 "nbformat": 4,
 "nbformat_minor": 5
}

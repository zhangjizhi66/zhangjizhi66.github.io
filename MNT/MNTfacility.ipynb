{
 "cells": [
  {
   "cell_type": "markdown",
   "id": "10962098",
   "metadata": {},
   "source": [
    "# MNT 实验装置"
   ]
  },
  {
   "cell_type": "markdown",
   "id": "6ba15255",
   "metadata": {},
   "source": [
    "<img src=\"img/7tu6fe3dfy64rc.png\" style=\"zoom:80%\">\n",
    "\n",
    "- 束流：136Xe @ 1088MeV（作为参考，本实验中库仑势垒680MeV）\n",
    "\n",
    "- 靶：198Pt\n",
    "\n",
    "- 探测阵列：GRETINA + CHICO2 @ Argonne National Laboratory\n",
    "\n",
    "### GRETINA\n",
    "\n",
    "根据 gamma 与物质相互作用的原理，重建其在探测器中的径迹(tracking)\n",
    "\n",
    "在数据中 gamma 的记录方式有两种：\n",
    "\n",
    "- gtk类型，即 GRETINA 对 gamma 进行 tracking 的结果\n",
    "\n",
    "- gamma类型，不使用 tracking 的结果，而是将每块 HPGe 作为独立的探测器\n",
    "\n",
    "<img src=\"img/GRETINA_det_BIG.jpg\" style=\"zoom:70%\">\n",
    "<img src=\"img/OIP-C.png\" style=\"zoom:90%\">\n",
    "<img src=\"img/Canvas_1.png\" style=\"zoom:80%\">\n",
    "\n",
    "### CHICO (Compact Heavy Ion COunter) / CHICO2\n",
    "\n",
    "- CHICO 与 GammaSphere 耦合，主要用来探测两体反应中生成的重离子的方位和时间信息；探测器选用PPAC(Parallel Plate Avalanche Counter)\n",
    "\n",
    "- CHICO采用十角对称的布局：20片梯形PPAC，分成两个全同的半球，耦合在与束流垂直的平面上(<math>\\theta=90^\\circ</math>)；整体能够覆盖4&pi;立体角的69%。\n",
    "\n",
    "- PPAC阳极以9.3°的分辨测量方位角&phi;，阴极以1°的分辨测量极角&theta;，与 Gammasphere 的位置分辨匹配\n",
    "\n",
    "- 阳极：在方位角&phi;方向分割为互相绝缘的两部分，面积分别占1/3和2/3；由于两体动力学中出射核子一定共面（忽略轻粒子的发射），使得方位角&phi;的分辨率由阳极较小的部分所覆盖的方位角决定，约为9.3°，减少了电子学通道的数目\n",
    "\n",
    "- CHICO2：为了与 GRETINA 的位置分辨匹配，CHICO2 采用了像素化(pixelated)的设计，极角&theta;的分辨提升至0.5°，方位角&phi;的分辨提升至1.4°\n",
    "\n",
    "<img src=\"img/CHICO三维结构.png\" style=\"zoom:80%\">\n",
    "<img src=\"img/CHICO侧视图.png\" style=\"zoom:80%\">\n",
    "<img src=\"img/PPAC阳极.png\" style=\"zoom:80%\">\n",
    "<img src=\"img/PPAC阳极侧面.png\" style=\"zoom:90%\">\n",
    "<img src=\"img/D7rrf8ckanci.png\" style=\"zoom:80%\">"
   ]
  },
  {
   "cell_type": "code",
   "execution_count": 1,
   "id": "11202a21",
   "metadata": {},
   "outputs": [
    {
     "name": "stdout",
     "output_type": "stream",
     "text": [
      "2023年 11月 16日 星期四 16:12:00 CST\r\n",
      "\n"
     ]
    }
   ],
   "source": [
    "!date"
   ]
  }
 ],
 "metadata": {
  "kernelspec": {
   "display_name": "ROOT C++",
   "language": "c++",
   "name": "root"
  },
  "language_info": {
   "codemirror_mode": "text/x-c++src",
   "file_extension": ".C",
   "mimetype": " text/x-c++src",
   "name": "c++"
  }
 },
 "nbformat": 4,
 "nbformat_minor": 5
}

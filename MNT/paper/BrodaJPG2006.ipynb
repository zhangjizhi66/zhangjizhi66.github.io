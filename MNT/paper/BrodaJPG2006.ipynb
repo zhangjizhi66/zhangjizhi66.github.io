{
 "cells": [
  {
   "cell_type": "markdown",
   "id": "521100df",
   "metadata": {},
   "source": [
    "# Broda: Spectroscopic studies with the use of deep-inelastic heavy-ion reactions\n",
    "\n",
    "[BrodaJPG2006](../pdf/Broda_2006_J._Phys._G__Nucl._Part._Phys._32_R151.pdf)"
   ]
  },
  {
   "cell_type": "markdown",
   "id": "09163962",
   "metadata": {},
   "source": [
    "\n",
    "### 深度非弹散射用于研究yrast结构\n",
    "\n",
    "- 丰中子核用传统的熔合蒸发反应很难产生，长期以来人们只能通过放射性衰变有限地研究其性质，而对其yrast结构知之甚少。即使运用放射性核束也不能有效克服这一缺陷。\n",
    "- 两体反应是前往丰中子核区的主要手段\n",
    "\n",
    "<img src=\"../img/92mo_60ni_dic.jpg\" style=\"zoom:50%\">\n",
    "\n",
    "- 255MeV 60Ni+92Mo\n",
    "   - 厚靶 0.8mg/cm2，厚Pb衬底\n",
    "   - 探测阵列：12个反康Ge探测器\n",
    "   - 实验目标是观测熔合蒸发反应生成的N=82乏中子核，但同时也观测到许多非弹散射和核子转移的产物\n",
    "   - 观测到非集体的高自旋态（最高I=12），如右图，表明深度非弹散射可以用于yrast spectroscopy\n",
    "\n",
    "- 255MeV 54Fe+106Cd\n",
    "   - 厚靶 1.2mg/cm2，厚Pb衬底\n",
    "   - 从下图的side feeding可以看出，即使在小质量转移的准弹散射中，一些强布居的态也伴随着高自旋布居的拖尾\n",
    "\n",
    "<img src=\"../img/54fe_106cd_side_feeding.jpg\" style=\"zoom:50%\">\n",
    "\n",
    "### 典型的重核两体反应实验设置\n",
    "- 对于选定的重核碰撞系统，其能量一般选在稍高于库仑势垒的区域（1.1～2.0倍），熔合蒸发反应的截面通常很低\n",
    "   - 即使能量提高到可以形成复合核，由于弹核很重，复合核也会携带很大的角动量，从而发生熔合裂变，其产物通常也是感兴趣的\n",
    "- 在束时间通常为数天\n",
    "- 使用脉冲束，以区别prompt和delayed gamma。典型周期为几十到几百ns\n",
    "- 厚靶实验的特点\n",
    "   - 由于多普勒效应，时间短于1ps的态无法观测\n",
    "   - 实际的反应能量低于束流能量（最低至库仑势垒），使得准弹性散射成分增多，对于研究深度非弹散射是不利的\n",
    "   - 可以观测非常前冲的碎片。在一些实验中，由于束流与前冲碎片重合，这些碎片无法观测\n",
    "\n",
    "### N/Z平衡\n",
    "\n",
    "#### 3个实验\n",
    "<img src=\"../img/Three_experiments_mass_yield.jpg\" style=\"zoom:60%\">\n",
    "- 350MeV 64Ni+208Pb\n",
    "   - 能量稍低于复合核形成的阈值\n",
    "- 345MeV 58Ni—+208Pb\n",
    "   - 弹靶的N/Z值差异更大\n",
    "- 275 MeV 64Ni+130Te\n",
    "   - 熔合蒸发和熔合裂变的截面更高\n",
    "\n",
    "- 在反应58Ni+208Pb中，质量分布在A～100附近有一集团（如右图），来源于类靶碎片的裂变产物\n",
    "   - 64Ni+208Pb中也有这一现象，但并不明显。这是因为58Ni更容易向208Pb转移质子，形成易裂变的核\n",
    "- 在反应64Ni+130Te中，可以明显看到熔合裂变的贡献（质量分布的A～100区域）\n",
    "\n",
    "#### N/Z平衡的实验现象\n",
    "- 反应中靶核的N/Z通常比弹核高，反应之后碎片的N/Z趋向平衡\n",
    "   - 因此，靶核向弹核转移中子，或弹核向靶核转移质子，都是比较倾向于发生的过程\n",
    "\n",
    "- 将isobar的N/Z值按截面进行加权平均，作出N/Z随质量数的演化，如下图\n",
    "   - 可以看到，当产物质量稍稍偏离弹靶时，N/Z就开始迅速互相靠近\n",
    "   - 但即使反应深入至熔合裂变，N/Z也没有完全达到平衡。这限制了丰中子产物的极端程度。\n",
    "\n",
    "<img src=\"../img/64ni_130te_N-Z.jpg\" style=\"zoom:40%\">\n",
    "\n",
    "#### N/Z平衡的理论模型\n",
    "\n",
    "<img src=\"../img/N-Z_fit.jpg\" style=\"zoom:60%\">\n",
    "\n",
    "- Swiatecki模型\n",
    "   - 考虑两个相互接触的球形核，它们在液滴模型下总能量最低时，达到N/Z平衡；这种考虑高估了N/Z平衡所能进行的程度\n",
    "   - 改进：考虑处于 scission point 的两个有形变的核；但模型中没有直接考虑形变，而是认为通过拟合球形核之间的间距，可以粗糙地估计形变程度\n",
    "   - 通过调节两球形核中心的距离参数，来改变总能量中占主要贡献的库仑能部分，从而达到与实验数据的最佳拟合\n",
    "\n",
    "- 实验质量模型\n",
    "   - 为了克服液滴模型不够精确的特点，将总能量取为质量损失与库仑能的和。其中质量损失采用实际的原子核质量来计算\n",
    "\n",
    "- 右图是对58Ni+208Pb体系的一个较好的拟合结果，分别为实验质量模型（上）和Swiatecki模型（下）\n",
    "   - 表明N/Z平衡过程与原子核在分裂点 scission point 的形变密切相关\n"
   ]
  },
  {
   "cell_type": "code",
   "execution_count": 1,
   "id": "b9820ec1",
   "metadata": {},
   "outputs": [
    {
     "name": "stdout",
     "output_type": "stream",
     "text": [
      "2023年 11月 18日 星期六 12:58:46 CST\r\n",
      "\n"
     ]
    }
   ],
   "source": [
    "!date"
   ]
  }
 ],
 "metadata": {
  "kernelspec": {
   "display_name": "ROOT C++",
   "language": "c++",
   "name": "root"
  },
  "language_info": {
   "codemirror_mode": "text/x-c++src",
   "file_extension": ".C",
   "mimetype": " text/x-c++src",
   "name": "c++"
  }
 },
 "nbformat": 4,
 "nbformat_minor": 5
}

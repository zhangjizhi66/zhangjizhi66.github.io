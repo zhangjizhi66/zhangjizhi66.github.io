{
 "cells": [
  {
   "cell_type": "markdown",
   "id": "eaf5122c",
   "metadata": {},
   "source": [
    "# Kim: Study of Multi-Nucleon Transfer Reaction of 136Xe+198Pt Above the Coulomb Barrier\n",
    "\n",
    "[KimThesis2015](../pdf/KimThesis2015.pdf)"
   ]
  },
  {
   "cell_type": "markdown",
   "id": "dae07376",
   "metadata": {},
   "source": [
    "\n",
    "- 验证通过核子转移生成N=126附近丰中子核的可行性\n",
    "\n",
    "- 用谱仪测量PLF，进而计算得到TLF信息\n",
    "\n",
    "### 摘要\n",
    "\n",
    "- A=200附近的丰中子核，传统方法截面很低，MNT是候选手段。\n",
    "\n",
    "- 用丰中子的136Xe打另一个丰中子核（如208Pb或198Pt），发生MNT，预测会以高截面产生丰中子的target-like fragments(TLF)[9][14][26]。但实验上还没有得到很好的研究。\n",
    "\n",
    "- 实验：136Xe+198Pt，束流能量8MeV/u（库伦势垒以上55%）\n",
    "\n",
    "- 探测器：大接受度的VAMOS++谱仪、EXOGAM Ge探测器阵列，GANIL实验室\n",
    "\n",
    "- 研究步骤：1、验证用MNT产生极端丰中子核的可行性；2、研究相似N/Z比例的弹靶的反应机制\n",
    "\n",
    "- 逐事件辨认projectile-like fragments(PLF)[119]\n",
    "\n",
    "- 根据PLF的信息计算TLF截面，将PLF和TLF的截面与GRAZING代码[20]和TDHF[35]的计算结果比较。\n",
    "\n",
    "- 通过质量和原子量关联关系的矩分析，研究了核子转移反应的演化。(The evolution of reaction concerning nucleon transfer by moment analysis of correlation between mass and atomic number distri- bution(e.g. mean, width, and correlation of atomic number/mass distribution) will be discussed.)\n",
    "\n",
    "- 结果：首次确认136Xe+198Pt的MNT可以产生N=126的幻数丰中子核；观测到低激发能丰中子核，在N/Z平衡到达之前。(observed neutron rich nuclides are produced from reaction with low excitation energy before N/Z-equilibrium is reached)\n",
    "\n",
    "### 实验目的\n",
    "\n",
    "- 验证通过MNT生成N=126附近丰中子TLF的可行性\n",
    "\n",
    "- 探索反应机制：\n",
    "   - 核子转移的演化：方向与强度、体系何时到达N/Z平衡\n",
    "   - 反应动力学与核子转移的关联：角分布和激发能的变化——揭示库仑力、核力、耗散作用的相互作用\n",
    "   - 准弹性、深度非弹性两种反应机制在MNT反应道中的竞争\n",
    "\n",
    "### N=126核的生成\n",
    "\n",
    "- 极端天体中的r过程会经过丰中子核，（在幻数附近）其路径与核寿命、中子质子分离能密切相关(<math>S_n,S_p</math>)。shell closure处的核子能级密度低，因此中子俘获截面低。这阻止了r过程向重核方向进行，形成了waiting point。N=126是铀之前的最后一个waiting point，对锕系元素的合成影响很大。对N=126的研究也可以加深对壳模型的理解，如quenching of shell structures from increasing neutron number。\n",
    "\n",
    "- 传统上使用裂变或碎裂反应(fragmentation reaction)生成丰中子核，但生成N=126附近的丰中子核比较困难。208Pb+8Be的冷碎裂反应中，N=126产物截面仅为nb量级，与理论计算一致。\n",
    "\n",
    "- 替代方案就是重核在库仑势垒附近发生的MNT。理论计算：[21]。模型：GRAZING，[20]；GRAZING-F，考虑了裂变和蒸发，有A>200的核参与时比较准确，[23]。\n",
    "\n",
    "- 理论上136Xe打198Pt、208Pb都能生成目标丰中子核，但208Pb可能发生裂变，198Pt的存活概率比208Pb高2倍。\n",
    "\n",
    "- 文献[28]基于朗之万方程，预测136Xe+208Pb(E_CM=450MeV)的203Ir截面约100ub，202Os截面1ub（蒸发前）；同时认为系统能量必须较低，避免蒸发带来的影响。\n",
    "\n",
    "- 理论预计MNT方法比传统手段的生成截面高2-4个量级；但MNT的最佳反应条件在不同理论框架下给出了不同结果\n",
    "   - 基于GRAZING的计算：198Pt比208Pb的生成截面高2倍，这是因为质子比中子更难转移\n",
    "   - 基于朗之万方程的计算：用208Pb能获得更高的截面，这是由于208Pb的闭壳(shell closure)结构使得中子转移更加困难。\n",
    "\n",
    "- 最佳系统能量\n",
    "   - GRAZING（考虑蒸发）：束流能量6-10MeV/u\n",
    "   - 朗之万：4.5-5MeV/u，接近库仑势垒，从而避免粒子大量地蒸发\n",
    "   - 文献[34]的计算基于时间依赖的Hartree-Fork方法，认为库仑势垒附近的反应会快速达到电荷平衡，从而抑制丰中子核的生成；因此系统能量应远高于库伦势垒，缩短反应时间，从而避免电荷平衡\n",
    "\n",
    "- 文献[48]：136Xe+208Pb，E_CM=450MeV，GammaSphere；用gamma进行粒子鉴别；截面的测量结果与朗之万方程给出的结果一致，\n"
   ]
  },
  {
   "cell_type": "code",
   "execution_count": 1,
   "id": "eb2a837d",
   "metadata": {},
   "outputs": [
    {
     "name": "stdout",
     "output_type": "stream",
     "text": [
      "2023年 11月 18日 星期六 15:34:24 CST\r\n",
      "\n"
     ]
    }
   ],
   "source": [
    "!date"
   ]
  }
 ],
 "metadata": {
  "kernelspec": {
   "display_name": "ROOT C++",
   "language": "c++",
   "name": "root"
  },
  "language_info": {
   "codemirror_mode": "text/x-c++src",
   "file_extension": ".C",
   "mimetype": " text/x-c++src",
   "name": "c++"
  }
 },
 "nbformat": 4,
 "nbformat_minor": 5
}

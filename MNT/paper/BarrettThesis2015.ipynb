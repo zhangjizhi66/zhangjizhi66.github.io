{
 "cells": [
  {
   "cell_type": "markdown",
   "id": "ac415da9",
   "metadata": {},
   "source": [
    "# Barrett: Determination of Reaction Product Cross Sections in the 136Xe+208Pb Multi-nucleon Transfer Reaction at Ecm=450MeV\n",
    "\n",
    "[BarrettThesis2015](../pdf/BarrettJonathanS2015.pdf)"
   ]
  },
  {
   "cell_type": "markdown",
   "id": "55ac95dd",
   "metadata": {},
   "source": [
    "### 实验装置：Gammasphere\n",
    "\n",
    "- BGO back plug: 放置于Ge后方，veto掉该方向的康普顿散射；中间有液氮管穿过\n",
    "\n",
    "- 在束流穿入穿出的附近，由于束流占据了BGO的位置，反康的效率略有降低\n",
    "\n",
    "- 调束(tuning)：用荧光靶显示束流的位置\n",
    "\n",
    "- 吸收片(absorber)\n",
    "   - 低能X射线来源于光电效应后原子的退激，原则上与任何gamma都有符合，但并不能给出原子核的信息，却会占据电子学的时间。\n",
    "   - X射线的光电截面比gamma高的多（截面反比于能量的若干次方），通过一次作用损失全部能量；而gamma\n",
    "\n",
    "### 实验方法\n",
    "\n",
    "- 厚靶：实际反应能量分布在束流能量和库仑势垒之间，束流在反应前平均能量损失约5%\n",
    "\n",
    "#### 在束数据\n",
    "- 3.8天，束流占86%\n",
    "- 触发：三重gamma\n",
    "- 脉冲束：82ns，但使用sweeper将每10个脉冲剔除9个，实际周期820ns\n",
    "- 数据分析：三重gamma符合\n",
    "- 截面计算：重要程度由高到低，依次考虑探测器效率、三重符合效率、内转换\n",
    "   - 三重符合效率：在yrast rotational band的2条higher-lying跃迁开窗；假定没有去向其他带的跃迁，则三重符合效率的相对值等于lower-lying跃迁的强度\n",
    "   - 认为这样算得的截面是cumulative的，需要修正为independent\n",
    "   - 考虑了产物布居到基态或isomer的情形，将两种情况的截面相加得到总的independent截面\n",
    "\n",
    "#### 离线数据\n",
    "- 触发：单重gamma\n",
    "\n",
    "### 结果讨论\n",
    "\n",
    "#### 截面计算结果\n",
    "- 对于特定元素，作截面关于质量数的曲线，并与理论作比较\n",
    "- GRAZING\n",
    "   - 对于靠近弹核(<math>\\Delta{Z}=0,\\pm1</math>，N大范围变动)的类弹截面预言较好，而Z值远离弹核时偏离较大\n",
    "   - 少量质子转移被作者称为small energy loss transitions\n",
    "   - 这是由于GRAZING只考虑了准弹散，没有考虑深度非弹和准裂变。后两者的散射角均远离grazing angle\n",
    "   - Time-dependent Hartree-Fock模型考虑了深度非弹和裂变，但对于大质量转移的情况预言得也不好，原因未知\n",
    "- Langevin模型(by Zagrebaev and Greiner)\n",
    "   - 与测量结果较为符合，尤其是靶核“南边”的大质量转移\n",
    "\n",
    "#### 交叉符合分析 cross-coincidence analysis\n",
    "- 通过在某一产物的low-lying gamma上开窗，观察其partner的跃迁\n",
    "- 用138Ba（相比弹核增加2个质子，中子数相同）的4+到2+、2+到0+跃迁开二重窗，观察Hg（相比靶核减少2个质子）同位素的强度分布\n",
    "   - 认为峰值位于202-203Hg，相比partner（206Hg）发射3到4个中子，对应激发能约为30-40MeV\n",
    "   - 206Hg也有观测到，表明无中子发射的“冷“过程存在\n",
    "- 类似方法也用于140Ba和partner 204Hg\n",
    "   - 对应Hg的峰值出现在201Hg\n",
    "   - 注意到partner 204Hg的强度明显高，同时204Hg对应于208Pb转移出1个alpha粒子，认为alpha粒子转移和低激发能可能有关系"
   ]
  },
  {
   "cell_type": "code",
   "execution_count": 1,
   "id": "815b67cd",
   "metadata": {},
   "outputs": [
    {
     "name": "stdout",
     "output_type": "stream",
     "text": [
      "2023年 11月 18日 星期六 15:41:26 CST\r\n",
      "\n"
     ]
    }
   ],
   "source": [
    "!date"
   ]
  }
 ],
 "metadata": {
  "kernelspec": {
   "display_name": "ROOT C++",
   "language": "c++",
   "name": "root"
  },
  "language_info": {
   "codemirror_mode": "text/x-c++src",
   "file_extension": ".C",
   "mimetype": " text/x-c++src",
   "name": "c++"
  }
 },
 "nbformat": 4,
 "nbformat_minor": 5
}

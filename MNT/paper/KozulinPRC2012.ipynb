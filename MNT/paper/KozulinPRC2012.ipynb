{
 "cells": [
  {
   "cell_type": "markdown",
   "id": "4493548c",
   "metadata": {},
   "source": [
    "# Kozulin: Mass distributions of the system 136Xe+208Pb at laboratory energies around the Coulomb barrier\n",
    "\n",
    "[KozulinPRC2012](../pdf/PhysRevC.86.044611.pdf)"
   ]
  },
  {
   "cell_type": "markdown",
   "id": "7a725c15",
   "metadata": {},
   "source": [
    "#### 弹靶组合的选择\n",
    "- 靶：208Pb, 200ug/cm2\n",
    "- 束：136Xe @ Ecm=423,526,617MeV\n",
    "- Langevin模型预言该弹靶组合可以更倾向于生成N=126的核\n",
    "- 208Pb的双幻数(Z=82 N=126)以及136Xe的单幻数(N=82)带来的趋稳性质(stabilizing effect)\n",
    "- 由于中子闭壳的存在，该弹靶体系的质子可能更容易发生转移，生成丰中子核\n",
    "\n",
    "#### 实验装置：CORSET\n",
    "- 双臂TOF谱仪\n",
    "- MCP微通道板\n",
    "- 接受度：16 deg\n",
    "- 角分辨：0.3 deg\n",
    "- 质量分辨：7 u\n",
    "- 能量分辨：25 MeV\n",
    "- 没有进行gamma的测量\n",
    "\n",
    "#### 筛选两体事件\n",
    "- 计算被探测的两体系统（不一定是真两体）的质心速度v\n",
    "- 如果是真两体系统，v应与束流的速度相等；否则该两体系统应是经历了裂变或粒子发射\n",
    "- 由于CORSET谱仪独立测量了类弹类靶的能量和速度（双速双能法），因此上述筛选是有效的；如果不是独立测量，而是运用两体假设计算出速度，那么此方法无效\n",
    "\n",
    "#### 总动能损失TKEL\n",
    "\n",
    "<img src=\"../img/TKEL.jpeg\" style=\"zoom:70%\">\n",
    "\n",
    "- 观测TKEL的分布，可以分辨出弹散、准弹散以及深度非弹、准裂变\n",
    "- 假定弹散和准弹散的TKEL为高斯型，通过拟合确定深度非弹的TKEL下界(40MeV)\n",
    "- 进而剔除准弹散事件\n",
    "\n",
    "#### primary fragments在中子发射下生存的概率\n",
    "\n",
    "<img src=\"../img/Qgg.jpeg\" style=\"zoom:60%\">\n",
    "\n",
    "- 假定体系激发能（=总动能损失+Q值）根据类弹类靶质量比例进行分配\n",
    "- 假定每个中子发射带走10MeV能量\n",
    "- 经历中子发射后，类弹类靶质量降低，但类靶降低地更快。这是由于类靶被人为（但合理）地分配了更多激发能\n",
    "- 136Xe+208Pb的特点\n",
    "   - 弹靶趋向平衡时，Q值接近0。这样总动能的损失(TKEL)就近似为体系的激发能。因此可以通过筛选TKEL来选出低激发能的事件（低激发能意味着primary fragments更容易生存）\n",
    "   - 弹靶远离平衡时，Q值不断降低直至远小于0。这表明比Pb更重的产物的激发能低，发射中子的概率就低，生存概率高\n",
    "\n",
    "#### 角分布\n",
    "- 在束流870MeV和1020MeV时，角分布峰值点稍低于擦边角grazing angle\n",
    "- 在束流700MeV（接近库仑势垒）时，角分布没有峰值\n",
    "- 以上是深度非弹散射的典型行为\n",
    "- 在1020MeV下，角分布的半高宽更大，峰值更低\n"
   ]
  },
  {
   "cell_type": "code",
   "execution_count": 1,
   "id": "a907af12",
   "metadata": {},
   "outputs": [
    {
     "name": "stdout",
     "output_type": "stream",
     "text": [
      "2023年 11月 18日 星期六 15:27:35 CST\r\n",
      "\n"
     ]
    }
   ],
   "source": [
    "!date"
   ]
  }
 ],
 "metadata": {
  "kernelspec": {
   "display_name": "ROOT C++",
   "language": "c++",
   "name": "root"
  },
  "language_info": {
   "codemirror_mode": "text/x-c++src",
   "file_extension": ".C",
   "mimetype": " text/x-c++src",
   "name": "c++"
  }
 },
 "nbformat": 4,
 "nbformat_minor": 5
}
